{
  "cells": [
    {
      "cell_type": "markdown",
      "metadata": {
        "id": "view-in-github",
        "colab_type": "text"
      },
      "source": [
        "<a href=\"https://colab.research.google.com/github/Akarsh-20/Akarsh_INFO5731_UNT/blob/main/INFO5731_Assignment_Three_fall2023.ipynb\" target=\"_parent\"><img src=\"https://colab.research.google.com/assets/colab-badge.svg\" alt=\"Open In Colab\"/></a>"
      ]
    },
    {
      "cell_type": "markdown",
      "metadata": {
        "id": "USSdXHuqnwv9"
      },
      "source": [
        "# **INFO5731 Assignment Three**\n",
        "\n",
        "In this assignment, you are required to conduct information extraction, semantic analysis based on **the dataset you collected from assignment two**. You may use scipy and numpy package in this assignment."
      ]
    },
    {
      "cell_type": "markdown",
      "metadata": {
        "id": "YWxodXh5n4xF"
      },
      "source": [
        "# **Question 1: Understand N-gram**"
      ]
    },
    {
      "cell_type": "markdown",
      "metadata": {
        "id": "TenBkDJ5n95k"
      },
      "source": [
        "(45 points). Write a python program to conduct N-gram analysis based on the dataset in your assignment two:\n",
        "\n",
        "(1) Count the frequency of all the N-grams (N=3).\n",
        "\n",
        "(2) Calculate the probabilities for all the bigrams in the dataset by using the fomular count(w2 w1) / count(w2). For example, count(really like) / count(really) = 1 / 3 = 0.33.\n",
        "\n",
        "(3) Extract all the **noun phrases** and calculate the relative probabilities of each review in terms of other reviews (abstracts, or tweets) by using the fomular frequency (noun phrase) / max frequency (noun phrase) on the whole dataset. Print out the result in a table with column name the all the noun phrases and row name as all the 100 reviews (abstracts, or tweets).\n"
      ]
    },
    {
      "cell_type": "code",
      "source": [
        "import nltk\n",
        "from nltk import word_tokenize\n",
        "from nltk.util import ngrams\n",
        "from collections import Counter\n",
        "import pandas as pd\n",
        "\n",
        "nltk.download('punkt')\n",
        "nltk.download('averaged_perceptron_tagger')\n",
        "\n",
        "def getNgrams(tokens, n):\n",
        "    return list(ngrams(tokens, n))\n",
        "\n",
        "def NgramsCount(tokens, n):\n",
        "    n_grams = getNgrams(tokens, n)\n",
        "    return Counter(n_grams)\n",
        "\n",
        "def BigramProbsCalculation(tokens):\n",
        "    bigrams = getNgrams(tokens, 2)\n",
        "    unigrams = tokens\n",
        "    bigram_counts = Counter(bigrams)\n",
        "    unigram_counts = Counter(unigrams)\n",
        "\n",
        "    probabilities = {}\n",
        "\n",
        "    for bigram in bigram_counts:\n",
        "        w1, w2 = bigram\n",
        "        probability = bigram_counts[bigram] / unigram_counts[w1]\n",
        "        probabilities[bigram] = probability\n",
        "\n",
        "    return probabilities\n",
        "\n",
        "def NounPhrases(text):\n",
        "    # You can use a more sophisticated approach for noun phrase extraction\n",
        "    # For simplicity, we'll use a basic method here.\n",
        "    tokens = word_tokenize(text)\n",
        "    tagged_tokens = nltk.pos_tag(tokens)\n",
        "\n",
        "    # Extracting noun phrases using a simple rule\n",
        "    grammar = \"NP: {<DT>?<JJ>*<NN>}\"\n",
        "    cp = nltk.RegexpParser(grammar)\n",
        "    tree = cp.parse(tagged_tokens)\n",
        "\n",
        "    noun_phrases = []\n",
        "    for subtree in tree.subtrees():\n",
        "        if subtree.label() == 'NP':\n",
        "            noun_phrases.append(' '.join(word for word, tag in subtree.leaves()))\n",
        "\n",
        "    return noun_phrases\n",
        "\n",
        "def RelativeProb(dataset):\n",
        "    all_noun_phrases = []\n",
        "    review_noun_phrases = []\n",
        "\n",
        "    for review in dataset:\n",
        "        noun_phrases = NounPhrases(review)\n",
        "        review_noun_phrases.append(Counter(noun_phrases))\n",
        "        all_noun_phrases.extend(noun_phrases)\n",
        "\n",
        "    max_freq = Counter(all_noun_phrases)\n",
        "\n",
        "    relative_probabilities = []\n",
        "    for review_noun_phrase_count in review_noun_phrases:\n",
        "        relative_probabilities.append({\n",
        "            np: review_noun_phrase_count[np] / max_freq[np] if max_freq[np] != 0 else 0\n",
        "            for np in review_noun_phrase_count\n",
        "        })\n",
        "\n",
        "    return relative_probabilities\n",
        "\n",
        "# Upload the dataset.txt file to your Colab environment\n",
        "\n",
        "# Read the dataset from a file\n",
        "with open('hotelReviews.csv', 'r', encoding='utf-8') as file:\n",
        "    dataset = file.readlines()\n",
        "\n",
        "# Tokenize the dataset\n",
        "tokenized_dataset = [word_tokenize(review) for review in dataset]\n",
        "\n",
        "# Count the frequency of all the N-grams (N=3)\n",
        "trigram_counts = NgramsCount([tuple(review) for review in tokenized_dataset], 3)\n",
        "print(\"Trigram Frequencies:\")\n",
        "print(trigram_counts)\n",
        "\n",
        "# Calculate the probabilities for all the bigrams\n",
        "bigram_probabilities = BigramProbsCalculation([word for review in tokenized_dataset for word in review])\n",
        "print(\"\\nBigram Probabilities:\")\n",
        "print(bigram_probabilities)\n",
        "\n",
        "# Extract all the noun phrases and calculate relative probabilities\n",
        "relative_probabilities = RelativeProb(dataset)\n",
        "df = pd.DataFrame(relative_probabilities)\n",
        "df = df.fillna(0)  # Fill NaN values with 0 for better presentation\n",
        "print(\"\\nRelative Probabilities of Noun Phrases:\")\n",
        "print(df)\n"
      ],
      "metadata": {
        "colab": {
          "base_uri": "https://localhost:8080/"
        },
        "id": "xCQhHMUZeR9f",
        "outputId": "a10a5e1e-4528-44ec-a4c4-1d4c6b1cf42f"
      },
      "execution_count": null,
      "outputs": [
        {
          "output_type": "stream",
          "name": "stderr",
          "text": [
            "[nltk_data] Downloading package punkt to /root/nltk_data...\n",
            "[nltk_data]   Package punkt is already up-to-date!\n",
            "[nltk_data] Downloading package averaged_perceptron_tagger to\n",
            "[nltk_data]     /root/nltk_data...\n",
            "[nltk_data]   Package averaged_perceptron_tagger is already up-to-\n",
            "[nltk_data]       date!\n"
          ]
        },
        {
          "output_type": "stream",
          "name": "stdout",
          "text": [
            "Trigram Frequencies:\n"
          ]
        },
        {
          "output_type": "stream",
          "name": "stderr",
          "text": [
            "IOPub data rate exceeded.\n",
            "The notebook server will temporarily stop sending output\n",
            "to the client in order to avoid crashing it.\n",
            "To change this limit, set the config variable\n",
            "`--NotebookApp.iopub_data_rate_limit`.\n",
            "\n",
            "Current values:\n",
            "NotebookApp.iopub_data_rate_limit=1000000.0 (bytes/sec)\n",
            "NotebookApp.rate_limit_window=3.0 (secs)\n",
            "\n"
          ]
        },
        {
          "output_type": "stream",
          "name": "stdout",
          "text": [
            "\n",
            "Bigram Probabilities:\n"
          ]
        },
        {
          "output_type": "stream",
          "name": "stderr",
          "text": [
            "IOPub data rate exceeded.\n",
            "The notebook server will temporarily stop sending output\n",
            "to the client in order to avoid crashing it.\n",
            "To change this limit, set the config variable\n",
            "`--NotebookApp.iopub_data_rate_limit`.\n",
            "\n",
            "Current values:\n",
            "NotebookApp.iopub_data_rate_limit=1000000.0 (bytes/sec)\n",
            "NotebookApp.rate_limit_window=3.0 (secs)\n",
            "\n"
          ]
        }
      ]
    },
    {
      "cell_type": "markdown",
      "metadata": {
        "id": "AfpMRCrRwN6Z"
      },
      "source": [
        "# **Question 2: Undersand TF-IDF and Document representation**"
      ]
    },
    {
      "cell_type": "markdown",
      "metadata": {
        "id": "1dCQEbDawWCw"
      },
      "source": [
        "(20 points). Starting from the documents (all the reviews, or abstracts, or tweets) collected for assignment two, write a python program:\n",
        "\n",
        "(1) To build the **documents-terms weights (tf*idf) matrix bold text**.\n",
        "\n",
        "(2) To rank the documents with respect to query (design a query by yourself, for example, \"An Outstanding movie with a haunting performance and best character development\") by using **cosine similarity**."
      ]
    },
    {
      "cell_type": "code",
      "execution_count": null,
      "metadata": {
        "id": "vATjQNTY8buA",
        "colab": {
          "base_uri": "https://localhost:8080/"
        },
        "outputId": "e1d7aff3-24cb-43cc-de53-309c0f75d5b4"
      },
      "outputs": [
        {
          "output_type": "stream",
          "name": "stdout",
          "text": [
            "Terms\t Document 1\tDocument 2\tDocument 3\tDocument 4\tQuery\n",
            "10am\t0.0000\t0.1676\t0.0000\t0.0000\t0.0000\t\n",
            "above\t0.0000\t0.0000\t0.0000\t0.2099\t0.0000\t\n",
            "accommodating\t0.0000\t0.1676\t0.0000\t0.0000\t0.0000\t\n",
            "all\t0.0000\t0.0000\t0.0000\t0.4198\t0.0000\t\n",
            "allowed\t0.0000\t0.1676\t0.0000\t0.0000\t0.0000\t\n",
            "amazing\t0.1516\t0.0000\t0.0000\t0.0000\t0.0000\t\n",
            "and\t0.2167\t0.1597\t0.0872\t0.1000\t0.0880\t\n",
            "anyone\t0.1516\t0.0000\t0.0000\t0.0000\t0.0000\t\n",
            "are\t0.0000\t0.0000\t0.0000\t0.2099\t0.0000\t\n",
            "area\t0.0000\t0.0000\t0.0000\t0.0000\t0.1847\t\n",
            "as\t0.0000\t0.1676\t0.0000\t0.0000\t0.0000\t\n",
            "at\t0.0854\t0.0944\t0.1031\t0.1182\t0.0000\t\n",
            "awards\t0.0000\t0.0000\t0.0000\t0.2099\t0.0000\t\n",
            "believability\t0.1516\t0.0000\t0.0000\t0.0000\t0.0000\t\n",
            "best\t0.0000\t0.0000\t0.0000\t0.0000\t0.1847\t\n",
            "beyond\t0.1223\t0.0000\t0.0000\t0.1693\t0.0000\t\n",
            "big\t0.0000\t0.1676\t0.0000\t0.0000\t0.0000\t\n",
            "check\t0.0000\t0.1352\t0.1476\t0.0000\t0.0000\t\n",
            "clean\t0.1516\t0.0000\t0.0000\t0.0000\t0.0000\t\n",
            "cleaning\t0.0000\t0.0000\t0.1830\t0.0000\t0.0000\t\n",
            "colleagues\t0.0000\t0.0000\t0.1830\t0.0000\t0.0000\t\n",
            "comfortable\t0.1223\t0.0000\t0.0000\t0.1693\t0.0000\t\n",
            "dead\t0.1516\t0.0000\t0.0000\t0.0000\t0.0000\t\n",
            "definitely\t0.0000\t0.1676\t0.0000\t0.0000\t0.0000\t\n",
            "delightful\t0.0000\t0.0000\t0.1830\t0.0000\t0.0000\t\n",
            "didn\t0.0000\t0.1676\t0.0000\t0.0000\t0.0000\t\n",
            "don\t0.0000\t0.0000\t0.0000\t0.0000\t0.1847\t\n",
            "downtown\t0.0000\t0.0000\t0.0000\t0.0000\t0.1847\t\n",
            "downtownunbelievable\t0.1516\t0.0000\t0.0000\t0.0000\t0.0000\t\n",
            "eager\t0.0000\t0.0000\t0.1830\t0.0000\t0.0000\t\n",
            "early\t0.0000\t0.3352\t0.0000\t0.0000\t0.0000\t\n",
            "encountered\t0.0000\t0.0000\t0.1830\t0.0000\t0.0000\t\n",
            "end\t0.1516\t0.0000\t0.0000\t0.0000\t0.0000\t\n",
            "enjoyable\t0.1516\t0.0000\t0.0000\t0.0000\t0.0000\t\n",
            "events\t0.1516\t0.0000\t0.0000\t0.0000\t0.0000\t\n",
            "every\t0.0000\t0.0000\t0.1830\t0.0000\t0.0000\t\n",
            "everything\t0.0000\t0.0000\t0.0000\t0.0000\t0.1847\t\n",
            "exceptional\t0.0000\t0.1676\t0.0000\t0.0000\t0.0000\t\n",
            "experience\t0.0000\t0.0000\t0.1830\t0.0000\t0.0000\t\n",
            "extremely\t0.0000\t0.1676\t0.0000\t0.0000\t0.0000\t\n",
            "feel\t0.0000\t0.0000\t0.0000\t0.0000\t0.1847\t\n",
            "for\t0.1223\t0.0000\t0.0000\t0.0000\t0.1490\t\n",
            "friend\t0.0000\t0.1676\t0.0000\t0.0000\t0.0000\t\n",
            "from\t0.0000\t0.0000\t0.1830\t0.0000\t0.0000\t\n",
            "getaway\t0.0000\t0.0000\t0.0000\t0.0000\t0.1847\t\n",
            "give\t0.0000\t0.0000\t0.0000\t0.2099\t0.0000\t\n",
            "go\t0.0000\t0.0000\t0.0000\t0.2099\t0.0000\t\n",
            "got\t0.0000\t0.1676\t0.0000\t0.0000\t0.0000\t\n",
            "great\t0.0000\t0.0000\t0.0000\t0.2099\t0.0000\t\n",
            "had\t0.0000\t0.0000\t0.1830\t0.0000\t0.0000\t\n",
            "hard\t0.1516\t0.0000\t0.0000\t0.0000\t0.0000\t\n",
            "help\t0.1223\t0.0000\t0.1476\t0.0000\t0.0000\t\n",
            "highly\t0.1516\t0.0000\t0.0000\t0.0000\t0.0000\t\n",
            "hn\t0.0000\t0.0000\t0.1225\t0.1406\t0.1237\t\n",
            "hotel\t0.1015\t0.1122\t0.0000\t0.0000\t0.1237\t\n",
            "idea\t0.1516\t0.0000\t0.0000\t0.0000\t0.0000\t\n",
            "if\t0.0000\t0.0000\t0.0000\t0.0000\t0.1847\t\n",
            "in\t0.0854\t0.0944\t0.1031\t0.0000\t0.1041\t\n",
            "invest\t0.1516\t0.0000\t0.0000\t0.0000\t0.0000\t\n",
            "is\t0.1223\t0.0000\t0.0000\t0.0000\t0.2980\t\n",
            "it\t0.1516\t0.0000\t0.0000\t0.0000\t0.0000\t\n",
            "john\t0.1516\t0.0000\t0.0000\t0.0000\t0.0000\t\n",
            "kept\t0.0000\t0.0000\t0.0000\t0.0000\t0.1847\t\n",
            "lack\t0.1516\t0.0000\t0.0000\t0.0000\t0.0000\t\n",
            "like\t0.0000\t0.1352\t0.0000\t0.0000\t0.1490\t\n",
            "main\t0.0000\t0.0000\t0.0000\t0.0000\t0.1847\t\n",
            "make\t0.2446\t0.0000\t0.0000\t0.1693\t0.0000\t\n",
            "member\t0.0000\t0.0000\t0.1830\t0.0000\t0.0000\t\n",
            "my\t0.0000\t0.0000\t0.1830\t0.0000\t0.0000\t\n",
            "need\t0.0000\t0.0000\t0.0000\t0.0000\t0.1847\t\n",
            "of\t0.1516\t0.0000\t0.0000\t0.0000\t0.0000\t\n",
            "offers\t0.0000\t0.0000\t0.0000\t0.0000\t0.1847\t\n",
            "on\t0.0000\t0.0000\t0.0000\t0.0000\t0.1847\t\n",
            "our\t0.1516\t0.0000\t0.0000\t0.0000\t0.0000\t\n",
            "out\t0.0000\t0.0000\t0.0000\t0.0000\t0.1847\t\n",
            "over\t0.1516\t0.0000\t0.0000\t0.0000\t0.0000\t\n",
            "perfect\t0.0000\t0.0000\t0.0000\t0.0000\t0.1847\t\n",
            "please\t0.0000\t0.0000\t0.0000\t0.2099\t0.0000\t\n",
            "plus\t0.0000\t0.1676\t0.0000\t0.0000\t0.0000\t\n",
            "property\t0.0000\t0.0000\t0.0000\t0.2099\t0.0000\t\n",
            "recommend\t0.1223\t0.0000\t0.1476\t0.0000\t0.0000\t\n",
            "rooms\t0.1516\t0.0000\t0.0000\t0.0000\t0.0000\t\n",
            "secret\t0.0000\t0.0000\t0.0000\t0.0000\t0.1847\t\n",
            "send\t0.0000\t0.1676\t0.0000\t0.0000\t0.0000\t\n",
            "sevice\t0.0000\t0.1676\t0.0000\t0.0000\t0.0000\t\n",
            "so\t0.0000\t0.1676\t0.0000\t0.0000\t0.0000\t\n",
            "staff\t0.1015\t0.0000\t0.2451\t0.2811\t0.0000\t\n",
            "stay\t0.1223\t0.0000\t0.0000\t0.1693\t0.0000\t\n",
            "street\t0.0000\t0.0000\t0.0000\t0.0000\t0.1847\t\n",
            "super\t0.0000\t0.1676\t0.0000\t0.0000\t0.0000\t\n",
            "thank\t0.0000\t0.0000\t0.1830\t0.0000\t0.0000\t\n",
            "that\t0.1516\t0.0000\t0.0000\t0.0000\t0.0000\t\n",
            "the\t0.2890\t0.0799\t0.3488\t0.1000\t0.2640\t\n",
            "there\t0.0000\t0.1676\t0.0000\t0.0000\t0.0000\t\n",
            "they\t0.1015\t0.1122\t0.0000\t0.1406\t0.0000\t\n",
            "this\t0.0854\t0.0944\t0.0000\t0.1182\t0.1041\t\n",
            "to\t0.1708\t0.1888\t0.4123\t0.1182\t0.0000\t\n",
            "truly\t0.1516\t0.0000\t0.0000\t0.0000\t0.0000\t\n",
            "us\t0.0000\t0.1676\t0.0000\t0.0000\t0.0000\t\n",
            "valet\t0.0000\t0.0000\t0.1830\t0.0000\t0.0000\t\n",
            "venturing\t0.0000\t0.0000\t0.0000\t0.0000\t0.1847\t\n",
            "very\t0.1516\t0.0000\t0.0000\t0.0000\t0.0000\t\n",
            "visiting\t0.1516\t0.0000\t0.0000\t0.0000\t0.0000\t\n",
            "wait\t0.0000\t0.1676\t0.0000\t0.0000\t0.0000\t\n",
            "wanna\t0.0000\t0.1676\t0.0000\t0.0000\t0.0000\t\n",
            "was\t0.1223\t0.2704\t0.0000\t0.0000\t0.0000\t\n",
            "we\t0.0000\t0.1676\t0.0000\t0.0000\t0.0000\t\n",
            "weekend\t0.0000\t0.0000\t0.0000\t0.0000\t0.1847\t\n",
            "well\t0.0000\t0.1676\t0.0000\t0.0000\t0.0000\t\n",
            "went\t0.1516\t0.0000\t0.0000\t0.0000\t0.0000\t\n",
            "were\t0.1015\t0.1122\t0.1225\t0.0000\t0.0000\t\n",
            "wick\t0.1516\t0.0000\t0.0000\t0.0000\t0.0000\t\n",
            "will\t0.0000\t0.0000\t0.1830\t0.0000\t0.0000\t\n",
            "wonderful\t0.0000\t0.0000\t0.1830\t0.0000\t0.0000\t\n",
            "would\t0.0000\t0.1676\t0.0000\t0.0000\t0.0000\t\n",
            "you\t0.0000\t0.0000\t0.1476\t0.0000\t0.2980\t\n",
            "your\t0.0000\t0.0000\t0.0000\t0.4198\t0.0000\t\n",
            "\n",
            "Query: This is the perfect hotel for a weekend getaway in (L). The downtown area on Main Street is a best kept secret and the (HN) offers everything you need if you don’t feel like venturing out.\n",
            "\n",
            "Ranked Documents:\n",
            "Document 1: Similarity Score = 0.1804\n",
            "   The rooms were clean, very comfortable, and the staff was amazing. They went over and beyond to help make our stay enjoyable. I highly recommend this hotel for anyone visiting downtownUnbelievable events and lack of believability make it hard to invest in the idea that John Wick is truly dead at the end.\n",
            "\n",
            "Document 3: Similarity Score = 0.1696\n",
            "   I had a wonderful experience at the (HN). Every staff member I encountered, from the valet to the check- in to the cleaning staff were delightful and eager to help! Thank you! Will recommend to my colleagues!\n",
            "\n",
            "Document 2: Similarity Score = 0.0888\n",
            "   They were extremely accommodating and allowed us to check in early at like 10am. We got to hotel super early and I didn’t wanna wait. So this was a big plus. The sevice was exceptional as well. Would definitely send a friend there.\n",
            "\n",
            "Document 4: Similarity Score = 0.0649\n",
            "   The staff at this property are all great! They all go above and beyond to make your stay comfortable. Please (HN) give your staff awards!\n",
            "\n"
          ]
        }
      ],
      "source": [
        "from sklearn.feature_extraction.text import TfidfVectorizer\n",
        "from sklearn.metrics.pairwise import cosine_similarity\n",
        "\n",
        "documents = [\n",
        "\"The rooms were clean, very comfortable, and the staff was amazing. They went over and beyond to help make our stay enjoyable. I highly recommend this hotel for anyone visiting downtown\"    \"Unbelievable events and lack of believability make it hard to invest in the idea that John Wick is truly dead at the end.\",\n",
        "    \"They were extremely accommodating and allowed us to check in early at like 10am. We got to hotel super early and I didn’t wanna wait. So this was a big plus. The sevice was exceptional as well. Would definitely send a friend there.\",\n",
        "    \"I had a wonderful experience at the (HN). Every staff member I encountered, from the valet to the check- in to the cleaning staff were delightful and eager to help! Thank you! Will recommend to my colleagues!\",\n",
        "    \"The staff at this property are all great! They all go above and beyond to make your stay comfortable. Please (HN) give your staff awards!\"\n",
        "]\n",
        "\n",
        "# Sample query\n",
        "query = \"This is the perfect hotel for a weekend getaway in (L). The downtown area on Main Street is a best kept secret and the (HN) offers everything you need if you don’t feel like venturing out.\"\n",
        "\n",
        "# Combine documents and query for TF-IDF matrix calculation\n",
        "all_texts = documents + [query]\n",
        "\n",
        "#Build TF-IDF matrix\n",
        "vectorizer = TfidfVectorizer()\n",
        "tfidf_matrix = vectorizer.fit_transform(all_texts)\n",
        "\n",
        "#Calculate cosine similarity\n",
        "cosine_similarities = cosine_similarity(tfidf_matrix[-1], tfidf_matrix[:-1])\n",
        "\n",
        "#Rank documents based on cosine similarity\n",
        "document_scores = list(enumerate(cosine_similarities[0]))\n",
        "sorted_documents = sorted(document_scores, key=lambda x: x[1], reverse=True)\n",
        "\n",
        "#Print the TF-IDF matrix\n",
        "print(\"Terms\\t\", \"\\t\".join([\"Document \" + str(i + 1) for i in range(len(documents))] + [\"Query\"]))\n",
        "terms = vectorizer.get_feature_names_out()\n",
        "for i in range(len(terms)):\n",
        "    print(terms[i], end=\"\\t\")\n",
        "    for j in range(len(all_texts)):\n",
        "        print(f\"{tfidf_matrix[j, i]:.4f}\", end=\"\\t\")\n",
        "    print()\n",
        "\n",
        "#Print the ranked documents\n",
        "print(\"\\nQuery:\", query)\n",
        "print(\"\\nRanked Documents:\")\n",
        "for index, score in sorted_documents:\n",
        "    print(f\"Document {index + 1}: Similarity Score = {score:.4f}\")\n",
        "    print(f\"   {documents[index]}\")\n",
        "    print()"
      ]
    },
    {
      "cell_type": "markdown",
      "metadata": {
        "id": "CwxG2sB8emrv"
      },
      "source": [
        "# **Question 3: Create your own word embedding model**"
      ]
    },
    {
      "cell_type": "markdown",
      "metadata": {
        "id": "-si4QyU5emrw"
      },
      "source": [
        "(20 points). Use the data you collected for assignment two to build a word embedding model:\n",
        "\n",
        "(1) Train a 300-dimension word embedding (it can be word2vec, glove, ulmfit, bert, or others).\n",
        "\n",
        "(2) Visualize the word embedding model you created.\n",
        "\n",
        "Reference: https://machinelearningmastery.com/develop-word-embeddings-python-gensim/\n",
        "\n",
        "Reference: https://jaketae.github.io/study/word2vec/"
      ]
    },
    {
      "cell_type": "code",
      "execution_count": null,
      "metadata": {
        "id": "kKsTClzYemrw",
        "colab": {
          "base_uri": "https://localhost:8080/",
          "height": 603
        },
        "outputId": "0a8c0d4e-cffe-49c1-89a6-74d29428690e"
      },
      "outputs": [
        {
          "output_type": "display_data",
          "data": {
            "text/plain": [
              "<Figure size 1200x800 with 1 Axes>"
            ],
            "image/png": "[encoded data removed]"
          },
          "metadata": {}
        }
      ],
      "source": [
        "import pandas as pd\n",
        "from gensim.models import Word2Vec\n",
        "from sklearn.manifold import TSNE\n",
        "import matplotlib.pyplot as plt\n",
        "import numpy as np\n",
        "\n",
        "# Load your IMDb reviews dataset\n",
        "csv_path = \"hotelReviews.csv\"\n",
        "df = pd.read_csv(csv_path)\n",
        "\n",
        "# Assuming the column name is 'Cleaned Review' (replace with the actual column name)\n",
        "corpus = [str(review).split() for review in df['reviews.text']]\n",
        "\n",
        "# Train Word2Vec model\n",
        "model = Word2Vec(sentences=corpus, vector_size=300, window=5, min_count=1, workers=4)\n",
        "model.save(\"word2vec_model.bin\")\n",
        "\n",
        "# Visualize word embeddings using t-SNE with a safe perplexity value\n",
        "def visualize_embeddings(model, words):\n",
        "    vectors = np.array([model.wv[word] for word in words if word in model.wv])\n",
        "\n",
        "    # Ensure perplexity is less than the number of samples\n",
        "    perplexity = min(5, len(vectors)-1)\n",
        "\n",
        "    tsne = TSNE(n_components=2, random_state=42, perplexity=perplexity)\n",
        "    vectors_tsne = tsne.fit_transform(vectors)\n",
        "\n",
        "    plt.figure(figsize=(12, 8))\n",
        "    plt.scatter(vectors_tsne[:, 0], vectors_tsne[:, 1], marker='o', color='b', alpha=0.5)\n",
        "\n",
        "    for i, word in enumerate(words):\n",
        "        if i < len(vectors_tsne):  # Ensure we don't go out of bounds\n",
        "            plt.annotate(word, xy=(vectors_tsne[i, 0], vectors_tsne[i, 1]), fontsize=8)\n",
        "\n",
        "    plt.title(\"t-SNE Visualization of Word2Vec Word Embeddings\")\n",
        "    plt.show()\n",
        "\n",
        "# Choose words to visualize\n",
        "words_to_visualize = [\"rooms\", \"accomodation\", \"clean\", \"venturing\", \"visiting\", \"service\"]\n",
        "\n",
        "# Visualize embeddings\n",
        "visualize_embeddings(model, words_to_visualize)\n"
      ]
    },
    {
      "cell_type": "markdown",
      "metadata": {
        "id": "E5mmYIfN8eYV"
      },
      "source": [
        "# **Question 4: Create your own training and evaluation data for sentiment analysis**"
      ]
    },
    {
      "cell_type": "markdown",
      "metadata": {
        "id": "hsi2y4z88ngX"
      },
      "source": [
        "(15 points). **You dodn't need to write program for this question!** Read each review (abstract or tweet) you collected in detail, and annotate each review with a sentiment (positive, negative, or neutral). Save the annotated dataset into a csv file with three columns (first column: document_id, clean_text, sentiment), upload the csv file to GitHub and submit the file link blew. This datset will be used for assignment four: sentiment analysis and text classification.\n"
      ]
    },
    {
      "cell_type": "code",
      "execution_count": 7,
      "metadata": {
        "id": "XfvMKJjIXS5G",
        "colab": {
          "base_uri": "https://localhost:8080/"
        },
        "outputId": "ed2b140a-791c-4256-cc90-870c1c925c3e"
      },
      "outputs": [
        {
          "output_type": "stream",
          "name": "stderr",
          "text": [
            "[nltk_data] Downloading package vader_lexicon to /root/nltk_data...\n",
            "[nltk_data]   Package vader_lexicon is already up-to-date!\n",
            "[nltk_data] Downloading package stopwords to /root/nltk_data...\n",
            "[nltk_data]   Package stopwords is already up-to-date!\n",
            "[nltk_data] Downloading package punkt to /root/nltk_data...\n",
            "[nltk_data]   Package punkt is already up-to-date!\n"
          ]
        },
        {
          "output_type": "stream",
          "name": "stdout",
          "text": [
            "       reviews.id                                       reviews.text sentiment\n",
            "0             NaN  Pleasant 10 min walk along the sea front to th...  positive\n",
            "1             NaN  Really lovely hotel. Stayed on the very top fl...  positive\n",
            "2             NaN  Ett mycket bra hotell. Det som drog ner betyge...   neutral\n",
            "3             NaN  We stayed here for four nights in October. The...  positive\n",
            "4             NaN  We stayed here for four nights in October. The...  positive\n",
            "...           ...                                                ...       ...\n",
            "35907         NaN  Best of the Best!!!! My family and I stayed in...  positive\n",
            "35908         NaN  Amazing Vacation in Beautiful Cabin We stayed ...  positive\n",
            "35909         NaN  My husband and I stayed at Tree Tops which is ...  positive\n",
            "35910         NaN  to share your opinion of this businesswith YP ...  positive\n",
            "35911         NaN         xxxxxxxxxxxxxxxxxxxxxxxxxxxxxxxxxxxxxxxxxx   neutral\n",
            "\n",
            "[35912 rows x 3 columns]\n"
          ]
        }
      ],
      "source": [
        "# The GitHub link of your final csv file\n",
        "# Link:\n",
        "\n",
        "https://github.com/Akarsh-20/Akarsh_INFO5731_UNT/blob/main/hotel_reviews_sentiment.csv\n"
      ]
    }
  ],
  "metadata": {
    "colab": {
      "provenance": [],
      "include_colab_link": true
    },
    "kernelspec": {
      "display_name": "Python 3 (ipykernel)",
      "language": "python",
      "name": "python3"
    },
    "language_info": {
      "codemirror_mode": {
        "name": "ipython",
        "version": 3
      },
      "file_extension": ".py",
      "mimetype": "text/x-python",
      "name": "python",
      "nbconvert_exporter": "python",
      "pygments_lexer": "ipython3",
      "version": "3.9.12"
    }
  },
  "nbformat": 4,
  "nbformat_minor": 0
}