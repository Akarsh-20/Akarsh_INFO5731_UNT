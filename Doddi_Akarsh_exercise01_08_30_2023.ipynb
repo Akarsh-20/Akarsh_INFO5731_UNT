{
  "cells": [
    {
      "cell_type": "markdown",
      "metadata": {
        "id": "view-in-github"
      },
      "source": [
        "<a href=\"https://colab.research.google.com/github/unt-iialab/INFO5731_Spring2020/blob/master/In_class_exercise/In_class_exercise_01.ipynb\" target=\"_parent\"><img src=\"https://colab.research.google.com/assets/colab-badge.svg\" alt=\"Open In Colab\"/></a>"
      ]
    },
    {
      "cell_type": "markdown",
      "metadata": {
        "id": "DymRJbxDBCnf"
      },
      "source": [
        "# **The first In-class-exercise (08/30/2023, 40 points in total)**\n",
        "This exercise is due tomorrow 08/31/203 11:59 PM.\n"
      ]
    },
    {
      "cell_type": "markdown",
      "metadata": {
        "id": "FBKvD6O_TY6e"
      },
      "source": [
        "(1) Write a Python program to calculate the area of a rectangle using user-input length and width."
      ]
    },
    {
      "cell_type": "code",
      "execution_count": null,
      "metadata": {
        "id": "cikVKDXdTbzE",
        "outputId": "d5043840-72d4-4874-f1eb-2c9babf0549b"
      },
      "outputs": [
        {
          "name": "stdout",
          "output_type": "stream",
          "text": [
            "length is:  5\n",
            "width is:  4\n",
            "Area of the rectangle is:  20\n"
          ]
        }
      ],
      "source": [
        "# write your answer here\n",
        "length, width = map(int,input(\"Enter length and width of the rectangle\").split())\n",
        "print(\"length is: \",length)\n",
        "print(\"width is: \", width)\n",
        "print(\"Area of the rectangle is: \",length*width)\n"
      ]
    },
    {
      "cell_type": "markdown",
      "metadata": {
        "id": "E9RqrlwdTfvl"
      },
      "source": [
        "(2) Create a program that takes two numbers from the user and swaps their values without using a temporary variable."
      ]
    },
    {
      "cell_type": "code",
      "execution_count": null,
      "metadata": {
        "id": "4XvRknixTh1g",
        "outputId": "a5fb1e03-5405-4316-ef8c-b206f33f9ec3"
      },
      "outputs": [
        {
          "name": "stdout",
          "output_type": "stream",
          "text": [
            "50 20\n",
            "20 50\n"
          ]
        }
      ],
      "source": [
        "# write your answer here\n",
        "value1 = int(input(\"Enter first value: \"))\n",
        "value2 = int(input(\"Enter second value: \"))\n",
        "print(value1, value2)\n",
        "value1 = value1 + value2\n",
        "value2 = value1 -value2\n",
        "value1 = value1 - value2\n",
        "print(value1, value2)\n"
      ]
    },
    {
      "cell_type": "markdown",
      "metadata": {
        "id": "03jb4GZsBkBS"
      },
      "source": [
        "(3) Write a Python program to calculate the length of a string."
      ]
    },
    {
      "cell_type": "code",
      "execution_count": null,
      "metadata": {
        "id": "YaGLbSHHB8Ej",
        "outputId": "eef26934-9359-49fd-e169-9714493ac56c"
      },
      "outputs": [
        {
          "name": "stdout",
          "output_type": "stream",
          "text": [
            "43\n"
          ]
        }
      ],
      "source": [
        "# write your answer here\n",
        "stringValue = \"The quick brown fox jumps over the lazy dog\"\n",
        "print(len(stringValue))\n"
      ]
    },
    {
      "cell_type": "markdown",
      "metadata": {
        "id": "jJDe71iLB616"
      },
      "source": [
        "(4) Write a Python program to count the number of characters in a string.\n",
        "\n",
        "Sample String : 'google.com‘,\n",
        "\n",
        "Expected Result : {'o': 3, 'g': 2, '.': 1, 'e': 1, 'l': 1, 'm': 1, 'c': 1}"
      ]
    },
    {
      "cell_type": "code",
      "execution_count": null,
      "metadata": {
        "id": "MtKskTzbCLaU",
        "outputId": "4d9c9c33-e853-49b6-cd61-bef192807132"
      },
      "outputs": [
        {
          "name": "stdout",
          "output_type": "stream",
          "text": [
            "<class 'collections.Counter'>\n"
          ]
        },
        {
          "name": "stdout",
          "output_type": "stream",
          "text": [
            "{'T': 1, 'h': 2, 'e': 3, ' ': 8, 'q': 1, 'u': 2, 'i': 1, 'c': 1, 'k': 1, 'b': 1, 'r': 2, 'o': 4, 'w': 1, 'n': 1, 'f': 1, 'x': 1, 'j': 1, 'm': 1, 'p': 1, 's': 1, 'v': 1, 't': 1, 'l': 1, 'a': 1, 'z': 1, 'y': 1, 'd': 1, 'g': 1}\n"
          ]
        }
      ],
      "source": [
        "# write your answer here\n",
        "from collections import Counter\n",
        "charCountString = \"The quick brown fox jumps over the lazy dog\"\n",
        "counter = Counter(charCountString)\n",
        "print(counter)"
      ]
    },
    {
      "cell_type": "markdown",
      "metadata": {
        "id": "55W9AMdXCSpV"
      },
      "source": [
        "(5) Write a Python program to sum all the items in a list."
      ]
    },
    {
      "cell_type": "code",
      "execution_count": null,
      "metadata": {
        "id": "I57NXsauCec2",
        "outputId": "888f0d9a-1e0b-4a64-d115-65fbabf5cfb8"
      },
      "outputs": [
        {
          "name": "stdout",
          "output_type": "stream",
          "text": [
            "165\n"
          ]
        }
      ],
      "source": [
        "# write your answer here\n",
        "listItems = [1, 2, 3, 4, 5, 10, 20, 30, 40, 50]\n",
        "resultSum = 0\n",
        "for item in listItems:\n",
        "    resultSum += item\n",
        "print(resultSum)"
      ]
    },
    {
      "cell_type": "markdown",
      "metadata": {
        "id": "4ulBZ6yhCi9F"
      },
      "source": [
        "(6) Write a Python program to get a string from a given string where all occurrences of its first char have been changed to '\\$', except the first char itself.\n",
        "\n",
        "Sample String : 'restart‘,\n",
        "\n",
        "Expected Result : 'resta\\$t'"
      ]
    },
    {
      "cell_type": "code",
      "execution_count": null,
      "metadata": {
        "id": "Fj0XhwbBCw2o",
        "outputId": "55780649-410b-45c6-ca71-d5f884d32257"
      },
      "outputs": [
        {
          "name": "stdout",
          "output_type": "stream",
          "text": [
            "The way of the great path is to treat the world as a public entity: choose the virtuous and capable, uphold integrity and harmony. Thus, people do not only favor their own relatives, nor do they only cherish their own children. They ensure that the elderly have a peaceful ending, the strong have roles to play, the young have opportunities to develop. The needy, widowed, orphaned, lonely, and disabled are all taken care of. At the beginning, this is the ultimate level of publicness in the world; at the end, this is the ultimate longevity in the world.\n",
            "t\n",
            "The way of $he grea$ pa$h is $o $rea$ $he world as a public en$i$y: choose $he vir$uous and capable, uphold in$egri$y and harmony. $hus, people do no$ only favor $heir own rela$ives, nor do $hey only cherish $heir own children. $hey ensure $ha$ $he elderly have a peaceful ending, $he s$rong have roles $o play, $he young have oppor$uni$ies $o develop. $he needy, widowed, orphaned, lonely, and disabled are all $aken care of. A$ $he beginning, $his is $he ul$ima$e level of publicness in $he world; a$ $he end, $his is $he ul$ima$e longevi$y in $he world.\n"
          ]
        }
      ],
      "source": [
        "# write your answer here\n",
        "firstCharReplaceString = \"The way of the great path is to treat the world as a public entity: choose the virtuous and capable, uphold integrity and harmony. Thus, people do not only favor their own relatives, nor do they only cherish their own children. They ensure that the elderly have a peaceful ending, the strong have roles to play, the young have opportunities to develop. The needy, widowed, orphaned, lonely, and disabled are all taken care of. At the beginning, this is the ultimate level of publicness in the world; at the end, this is the ultimate longevity in the world.\"\n",
        "firstChar = firstCharReplaceString[0].lower()\n",
        "print(firstCharReplaceString)\n",
        "print(firstChar)\n",
        "firstCharReplaceList = list(firstCharReplaceString)\n",
        "for i in range(1,len(firstCharReplaceString)):\n",
        "    if firstCharReplaceList[i].lower() == firstChar:\n",
        "        firstCharReplaceList[i] = '$'\n",
        "print(''.join(firstCharReplaceList))"
      ]
    },
    {
      "cell_type": "markdown",
      "metadata": {
        "id": "qVXA3q7ET5JI"
      },
      "source": [
        "(7) Create a program that calculates the factorial of a number using a while loop."
      ]
    },
    {
      "cell_type": "code",
      "execution_count": null,
      "metadata": {
        "id": "Lbt7R6UkT7BA",
        "outputId": "52e3babb-bfcc-4b8d-aac2-c8241cb6bb32"
      },
      "outputs": [
        {
          "name": "stdout",
          "output_type": "stream",
          "text": [
            "6\n",
            "720\n"
          ]
        }
      ],
      "source": [
        "# write your answer here\n",
        "numberFact = int(input(\"Enter a number: \"))\n",
        "print(numberFact)\n",
        "m = 0\n",
        "factorialRes= 1\n",
        "while m < numberFact:\n",
        "    factorialRes *= numberFact-m\n",
        "    m +=1\n",
        "print(factorialRes)"
      ]
    },
    {
      "cell_type": "markdown",
      "metadata": {
        "id": "6YfbzXMNT--R"
      },
      "source": [
        "(8) Create a program that takes a list of numbers as input and outputs a new list with only the even numbers."
      ]
    },
    {
      "cell_type": "code",
      "execution_count": null,
      "metadata": {
        "id": "54q7wMQPUAKu",
        "outputId": "e3d04569-e883-4801-938b-821ec930582a"
      },
      "outputs": [
        {
          "name": "stdout",
          "output_type": "stream",
          "text": [
            "[4, 55, 21, 32, 36, 38, 69]\n",
            "[4, 32, 36, 38]\n"
          ]
        }
      ],
      "source": [
        "# write your answer here\n",
        "inpList = list(map(int, input(\"Enter all the numbers to input in the list: \").split()))\n",
        "print(inpList)\n",
        "outList = []\n",
        "for item in inpList:\n",
        "    if item%2 == 0:\n",
        "        outList.append(item)\n",
        "print(outList)"
      ]
    },
    {
      "cell_type": "markdown",
      "metadata": {
        "id": "_bIP7s1MCzue"
      },
      "source": [
        "(9) Write a program with python which could accept two parameter a and b to calculate and output the result of S, where\n",
        "\n",
        "$\\ S=3.14*(1+a/b)^3$\n",
        "\n"
      ]
    },
    {
      "cell_type": "code",
      "execution_count": null,
      "metadata": {
        "id": "w79QilHXD3Mg",
        "outputId": "d7ddd641-7a96-468c-90fa-67b6ca4c42ca"
      },
      "outputs": [
        {
          "name": "stdout",
          "output_type": "stream",
          "text": [
            "4 5\n",
            "18.312480000000004\n"
          ]
        }
      ],
      "source": [
        "# write your answer here\n",
        "a, b = map(int, input(\"Enter a and b values: \").split())\n",
        "print(a, b)\n",
        "S = 3.14 * (1+a/b)**3\n",
        "print(S)"
      ]
    },
    {
      "cell_type": "markdown",
      "metadata": {
        "id": "xCa2bK9aD4Q3"
      },
      "source": [
        "(10) Write a Python program to concatenate following dictionaries to create a new one.\n",
        "\n",
        "Sample Dictionary : dic1={1:10, 2:20}, dic2={3:30, 4:40}, dic3={5:50,6:60},\n",
        "\n",
        "Expected Result : {1: 10, 2: 20, 3: 30, 4: 40, 5: 50, 6: 60}\n"
      ]
    },
    {
      "cell_type": "code",
      "execution_count": null,
      "metadata": {
        "id": "_z4aLqAbEET1",
        "outputId": "756c9036-8af8-4fd6-9bd5-68e92bce4e68"
      },
      "outputs": [
        {
          "name": "stdout",
          "output_type": "stream",
          "text": [
            "{1: 11, 2: 22, 3: 33, 4: 44, 5: 55, 6: 66}\n"
          ]
        }
      ],
      "source": [
        "# write your answer here\n",
        "dic1 = {1:11, 2:22}\n",
        "dic2 = {3:33, 4:44}\n",
        "dic3 = {5:55, 6:66}\n",
        "resDic = {**dic1, **dic2, **dic3}\n",
        "print(resDic)"
      ]
    },
    {
      "cell_type": "markdown",
      "metadata": {
        "id": "bkyZ2xSZUOst"
      },
      "source": [
        "(11) Write a Python function that accepts a tuple of integers and returns the largest and smallest elements."
      ]
    },
    {
      "cell_type": "code",
      "execution_count": 30,
      "metadata": {
        "id": "3FdLRBKOUQEd",
        "colab": {
          "base_uri": "https://localhost:8080/"
        },
        "outputId": "6fd29edb-709b-4a92-dfaa-1018479325f4"
      },
      "outputs": [
        {
          "output_type": "stream",
          "name": "stdout",
          "text": [
            "Enter values of a tuple: 4 1 6 78 2 15\n",
            "(4, 1, 6, 78, 2, 15)\n",
            "smallest number:  1\n",
            "largest number:  78\n"
          ]
        }
      ],
      "source": [
        "# write your answer here\n",
        "inpTuple = tuple(map(int, input(\"Enter values of a tuple: \").split()))\n",
        "print(inpTuple)\n",
        "sortedTuple=tuple(sorted(inpTuple))\n",
        "print(\"smallest number: \",sortedTuple[0])\n",
        "print(\"largest number: \",sortedTuple[-1])"
      ]
    },
    {
      "cell_type": "markdown",
      "metadata": {
        "id": "O0TVi3gKUTpp"
      },
      "source": [
        "(12) Write a Python program that counts the frequency of each character in a given string and stores it in a dictionary."
      ]
    },
    {
      "cell_type": "code",
      "execution_count": 2,
      "metadata": {
        "id": "lAtfSfZXUU-h",
        "colab": {
          "base_uri": "https://localhost:8080/"
        },
        "outputId": "df9261cd-2445-4903-d142-f3ba36f96c67"
      },
      "outputs": [
        {
          "output_type": "stream",
          "name": "stdout",
          "text": [
            "T  :  1\n",
            "h  :  1\n",
            "i  :  3\n",
            "s  :  4\n",
            "   :  6\n",
            "I  :  1\n",
            "N  :  1\n",
            "F  :  1\n",
            "O  :  1\n",
            "5  :  1\n",
            "7  :  1\n",
            "3  :  1\n",
            "1  :  2\n",
            "c  :  3\n",
            "o  :  1\n",
            "u  :  1\n",
            "r  :  2\n",
            "e  :  4\n",
            ",  :  1\n",
            "x  :  1\n"
          ]
        }
      ],
      "source": [
        "# write your answer here\n",
        "stringFreq = \"This is INFO 5731 course, excercise 1\"\n",
        "dictFreq = {}\n",
        "\n",
        "for char in stringFreq:\n",
        "  if char in dictFreq:\n",
        "    dictFreq[char] +=1\n",
        "  else:\n",
        "    dictFreq[char]=1\n",
        "for k, v in dictFreq.items():\n",
        "  print(k, \" : \" ,v)"
      ]
    },
    {
      "cell_type": "markdown",
      "metadata": {
        "id": "0v48Vqa7FrQh"
      },
      "source": [
        "(13) Write a Python program to check whether an element exists within a tuple."
      ]
    },
    {
      "cell_type": "code",
      "execution_count": 4,
      "metadata": {
        "id": "7WEmgq-DF2P1",
        "colab": {
          "base_uri": "https://localhost:8080/"
        },
        "outputId": "7089b8a2-373b-4e1c-80b3-6c26f0949a2c"
      },
      "outputs": [
        {
          "output_type": "stream",
          "name": "stdout",
          "text": [
            "Enter numbers to add in tuple: 1 45 3 58 36 49 2\n",
            "Enter a number to check: 49\n",
            "It exists\n"
          ]
        }
      ],
      "source": [
        "# write your answer here\n",
        "tupleCheck = tuple(map(int, input(\"Enter numbers to add in tuple: \").split()))\n",
        "checkWhether = int(input(\"Enter a number to check: \"))\n",
        "if checkWhether in tupleCheck:\n",
        "  print(\"It exists\")\n",
        "else:\n",
        "  print(\"It doesn't exists\")"
      ]
    },
    {
      "cell_type": "markdown",
      "metadata": {
        "id": "vD5PYLMuGga_"
      },
      "source": [
        "(14) Write a Python program to find maximum and the minimum value in a set."
      ]
    },
    {
      "cell_type": "code",
      "execution_count": 5,
      "metadata": {
        "id": "t0D5kdJUGjjw",
        "colab": {
          "base_uri": "https://localhost:8080/"
        },
        "outputId": "9615dc0c-5db4-41d6-d151-488bf4fe3070"
      },
      "outputs": [
        {
          "output_type": "stream",
          "name": "stdout",
          "text": [
            "Enter numbers in set: 1 35 64 8 34 6 77 3 98\n",
            "max value:  98\n",
            "min value:  1\n"
          ]
        }
      ],
      "source": [
        "# write your answer here\n",
        "setmm = set(map(int, input(\"Enter numbers in set: \").split()))\n",
        "print(\"max value: \", max(setmm))\n",
        "print(\"min value: \", min(setmm))"
      ]
    },
    {
      "cell_type": "markdown",
      "metadata": {
        "id": "uHkd-y5VhVWC"
      },
      "source": [
        "(15) Write a Python program to randomly divide the students in this class into six groups for term projects, each group should have at least 4 students but no more than 6 students (including 6). Here is the students list:\n",
        "student_list_fall_2023=['sb1826' ,\n",
        " 'lb0582' ,\n",
        " 'ab1820' ,\n",
        " 'sb1883' ,\n",
        " 'mb1296' ,\n",
        " 'sc1622' ,\n",
        " 'tc0469' ,\n",
        " 'ac1770' ,\n",
        " 'mc1453' ,\n",
        " 'ad1187' ,\n",
        " 'sd0926' ,\n",
        " 'sd1268' ,\n",
        " 'ag1609' ,\n",
        " 'sg1638' ,\n",
        " 'mg1299' ,\n",
        " 'vkk0022' ,\n",
        " 'bk0413' ,\n",
        " 'gk0257' ,\n",
        " 'am2807' ,\n",
        " 'gm0558' ,\n",
        " 'pm0658' ,\n",
        " 'am2346' ,\n",
        " 'rm1090' ,\n",
        " 'sm2364' ,\n",
        " 'sm2747' ,\n",
        " 'sm2343' ,\n",
        " 'vm0597' ,\n",
        " 'htn0086' ,\n",
        " 'sp2075' ,\n",
        " 'gp0306' ,\n",
        " 'lp0502' ,\n",
        " 'sr1508' ,\n",
        " 'vr0331' ,\n",
        " 'yr0180' ,\n",
        " 'as2819' ,\n",
        " 'ss2981' ,\n",
        " 'ns0756' ,\n",
        " 'mt0825' ,\n",
        " 'dt0463' ,\n",
        " 'su0137' ,\n",
        " 'dv0310'\n",
        "]"
      ]
    },
    {
      "cell_type": "code",
      "execution_count": 10,
      "metadata": {
        "id": "3iGbmcOBhTwy",
        "colab": {
          "base_uri": "https://localhost:8080/"
        },
        "outputId": "2aefc4ec-c09c-492d-a55d-4d484af5be8f"
      },
      "outputs": [
        {
          "output_type": "stream",
          "name": "stdout",
          "text": [
            "Group 1: ['sg1638', 'bk0413', 'htn0086', 'vr0331', 'ac1770', 'ab1820']\n",
            "Group 2: ['gk0257', 'dv0310', 'rm1090', 'ad1187', 'vkk0022', 'su0137']\n",
            "Group 3: ['sm2343', 'mt0825', 'dt0463', 'sm2364', 'pm0658', 'gm0558']\n",
            "Group 4: ['tc0469', 'sd1268', 'lb0582', 'am2346', 'sc1622', 'mb1296']\n",
            "Group 5: ['sb1883', 'lp0502', 'am2807', 'yr0180', 'mg1299', 'mc1453']\n",
            "Group 6: ['ns0756', 'sp2075', 'gp0306', 'sr1508', 'ss2981', 'as2819']\n",
            "Group 7: ['vm0597', 'sm2747', 'sb1826', 'sd0926', 'ag1609']\n",
            "Group 8: []\n",
            "Group 9: []\n",
            "Group 10: []\n"
          ]
        }
      ],
      "source": [
        "# write your answer here\n",
        "import random\n",
        "\n",
        "student_list_fall_2023 = ['sb1826', 'lb0582', 'ab1820', 'sb1883', 'mb1296', 'sc1622', 'tc0469', 'ac1770', 'mc1453', 'ad1187', 'sd0926', 'sd1268', 'ag1609', 'sg1638', 'mg1299', 'vkk0022', 'bk0413', 'gk0257', 'am2807', 'gm0558', 'pm0658', 'am2346', 'rm1090', 'sm2364', 'sm2747', 'sm2343', 'vm0597', 'htn0086', 'sp2075', 'gp0306', 'lp0502', 'sr1508', 'vr0331', 'yr0180', 'as2819', 'ss2981', 'ns0756', 'mt0825', 'dt0463', 'su0137', 'dv0310']\n",
        "\n",
        "random.shuffle(student_list_fall_2023)\n",
        "groups = [[] for _ in range(len(student_list_fall_2023) // 4)]\n",
        "grpIndex = 0\n",
        "\n",
        "for student in student_list_fall_2023:\n",
        "    if len(groups[grpIndex]) < 6:\n",
        "        groups[grpIndex].append(student)\n",
        "    else:\n",
        "        grpIndex = (grpIndex + 1) % len(groups)\n",
        "        groups[grpIndex].append(student)\n",
        "\n",
        "for i, group in enumerate(groups, start=1):\n",
        "    print(f\"Group {i}: {group}\")"
      ]
    },
    {
      "cell_type": "markdown",
      "metadata": {
        "id": "fmZ9vX20Qs3d"
      },
      "source": [
        "(16) Write a Python program to find the duplicate elements in a given array of integers. Return -1 If there are no such elements."
      ]
    },
    {
      "cell_type": "code",
      "execution_count": 14,
      "metadata": {
        "id": "W8Jw6sWMQs3d",
        "colab": {
          "base_uri": "https://localhost:8080/"
        },
        "outputId": "0a6928ba-de0a-4cb3-bbc9-dc0cf9c4e384"
      },
      "outputs": [
        {
          "output_type": "stream",
          "name": "stdout",
          "text": [
            "Enter the numbers of array: 2 46 3 75 6 14 3 64\n",
            "[3]\n"
          ]
        }
      ],
      "source": [
        "# write your answer here\n",
        "def FindDupes(nums):\n",
        "    seen = set()\n",
        "    dupes = set()\n",
        "\n",
        "    for i in nums:\n",
        "        if i in seen:\n",
        "            dupes.add(i)\n",
        "        else:\n",
        "            seen.add(i)\n",
        "\n",
        "    return list(dupes) if dupes else -1\n",
        "\n",
        "arr = list(map(int, input(\"Enter the numbers of array: \").split()))\n",
        "result = FindDupes(arr)\n",
        "\n",
        "print(result)"
      ]
    },
    {
      "cell_type": "markdown",
      "metadata": {
        "id": "hvq4APMhQs3d"
      },
      "source": [
        "(17) Write a Python program to select all the Sundays of a specified year."
      ]
    },
    {
      "cell_type": "code",
      "execution_count": 22,
      "metadata": {
        "id": "ZnoxhSglQs3d",
        "colab": {
          "base_uri": "https://localhost:8080/"
        },
        "outputId": "3a121799-59f8-40d6-b95a-6e752538ffa9"
      },
      "outputs": [
        {
          "output_type": "stream",
          "name": "stdout",
          "text": [
            "Enter the year: 2023\n",
            "[datetime.date(2023, 1, 1), datetime.date(2023, 1, 8), datetime.date(2023, 1, 15), datetime.date(2023, 1, 22), datetime.date(2023, 1, 29), datetime.date(2023, 2, 5), datetime.date(2023, 2, 12), datetime.date(2023, 2, 19), datetime.date(2023, 2, 26), datetime.date(2023, 3, 5), datetime.date(2023, 3, 12), datetime.date(2023, 3, 19), datetime.date(2023, 3, 26), datetime.date(2023, 4, 2), datetime.date(2023, 4, 9), datetime.date(2023, 4, 16), datetime.date(2023, 4, 23), datetime.date(2023, 4, 30), datetime.date(2023, 5, 7), datetime.date(2023, 5, 14), datetime.date(2023, 5, 21), datetime.date(2023, 5, 28), datetime.date(2023, 6, 4), datetime.date(2023, 6, 11), datetime.date(2023, 6, 18), datetime.date(2023, 6, 25), datetime.date(2023, 7, 2), datetime.date(2023, 7, 9), datetime.date(2023, 7, 16), datetime.date(2023, 7, 23), datetime.date(2023, 7, 30), datetime.date(2023, 8, 6), datetime.date(2023, 8, 13), datetime.date(2023, 8, 20), datetime.date(2023, 8, 27), datetime.date(2023, 9, 3), datetime.date(2023, 9, 10), datetime.date(2023, 9, 17), datetime.date(2023, 9, 24), datetime.date(2023, 10, 1), datetime.date(2023, 10, 8), datetime.date(2023, 10, 15), datetime.date(2023, 10, 22), datetime.date(2023, 10, 29), datetime.date(2023, 11, 5), datetime.date(2023, 11, 12), datetime.date(2023, 11, 19), datetime.date(2023, 11, 26), datetime.date(2023, 12, 3), datetime.date(2023, 12, 10), datetime.date(2023, 12, 17), datetime.date(2023, 12, 24), datetime.date(2023, 12, 31)]\n"
          ]
        }
      ],
      "source": [
        "# write your answer here\n",
        "import calendar\n",
        "import datetime\n",
        "\n",
        "year = int(input(\"Enter the year: \"))\n",
        "sundays = []\n",
        "\n",
        "for month in range(1, 13):\n",
        "  for day in calendar.monthcalendar(year, month):\n",
        "    if day[calendar.SUNDAY] != 0:\n",
        "      sundays.append(datetime.date(year, month, day[calendar.SUNDAY]))\n",
        "\n",
        "print(sundays)"
      ]
    },
    {
      "cell_type": "markdown",
      "metadata": {
        "id": "55FWoSJPVVM6"
      },
      "source": [
        "(18) Build a program that calculates the factorial of a given positive integer. The factorial of a non-negative integer n is the product of all positive integers less than or equal to n."
      ]
    },
    {
      "cell_type": "code",
      "execution_count": 23,
      "metadata": {
        "id": "hwtr1wZmVX5A",
        "colab": {
          "base_uri": "https://localhost:8080/"
        },
        "outputId": "fdde950b-5df8-4bba-8a61-daa09880e4df"
      },
      "outputs": [
        {
          "output_type": "stream",
          "name": "stdout",
          "text": [
            "Enter a number to find factorial: 6\n",
            "Factorial is:  720\n"
          ]
        }
      ],
      "source": [
        "# write your answer here\n",
        "def facky(n):\n",
        "    return 1 if n == 0 else n * facky(n - 1)\n",
        "inpFact = int(input(\"Enter a number to find factorial: \"))\n",
        "resFact = facky(inpFact)\n",
        "print(\"Factorial is: \", resFact)"
      ]
    },
    {
      "cell_type": "markdown",
      "metadata": {
        "id": "Q9ecagcaVazW"
      },
      "source": [
        "(19) Write a program that takes a positive integer n as input and prints the count of even numbers from 1 to n. Use a loop to iterate through the numbers and utilize the break statement to optimize the loop."
      ]
    },
    {
      "cell_type": "code",
      "execution_count": 26,
      "metadata": {
        "id": "gycgckoAVZjR",
        "colab": {
          "base_uri": "https://localhost:8080/"
        },
        "outputId": "be6a53e4-88ed-4768-fdf2-8bb54c1254f7"
      },
      "outputs": [
        {
          "output_type": "stream",
          "name": "stdout",
          "text": [
            "Enter a positive integer: 12\n",
            "6.\n"
          ]
        }
      ],
      "source": [
        "# write your answer here\n",
        "\n",
        "evenCountInp = int(input(\"Enter a positive integer: \"))\n",
        "\n",
        "if evenCountInp < 1:\n",
        "    print(\"none\")\n",
        "else:\n",
        "    even_count = evenCountInp // 2\n",
        "    print(f\"{even_count}.\")"
      ]
    },
    {
      "cell_type": "markdown",
      "metadata": {
        "id": "cboAr5pEWUf5"
      },
      "source": [
        "(20) Write a Python function called count_vowels that takes a string as input and returns the count of vowels (both lowercase and uppercase) present in the string. Consider the vowels to be 'a', 'e', 'i', 'o', and 'u'. Ignore spaces and other non-alphabetic characters."
      ]
    },
    {
      "cell_type": "code",
      "execution_count": 27,
      "metadata": {
        "id": "phs9gciMWWAW",
        "colab": {
          "base_uri": "https://localhost:8080/"
        },
        "outputId": "dc03061b-de9c-48e7-95c2-a847f8fd1299"
      },
      "outputs": [
        {
          "output_type": "stream",
          "name": "stdout",
          "text": [
            "Enter a string: INFO 5731, Computational Methods for Information Systems\n",
            "17\n"
          ]
        }
      ],
      "source": [
        "# write your answer here\n",
        "\n",
        "vowels = 'aeiouAEIOU'\n",
        "\n",
        "vowInp = input(\"Enter a string: \")\n",
        "countVow = sum(vowInp.count(vowel) for vowel in vowels)\n",
        "print(f\"{countVow}\")"
      ]
    }
  ],
  "metadata": {
    "colab": {
      "provenance": []
    },
    "kernelspec": {
      "display_name": "Python 3 (ipykernel)",
      "language": "python",
      "name": "python3"
    },
    "language_info": {
      "codemirror_mode": {
        "name": "ipython",
        "version": 3
      },
      "file_extension": ".py",
      "mimetype": "text/x-python",
      "name": "python",
      "nbconvert_exporter": "python",
      "pygments_lexer": "ipython3",
      "version": "3.11.0"
    }
  },
  "nbformat": 4,
  "nbformat_minor": 0
}