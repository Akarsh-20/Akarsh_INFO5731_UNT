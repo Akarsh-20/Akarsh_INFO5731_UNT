{
  "cells": [
    {
      "cell_type": "markdown",
      "metadata": {
        "id": "view-in-github"
      },
      "source": [
        "<a href=\"https://colab.research.google.com/github/unt-iialab/INFO5731_Spring2020/blob/master/Assignments/INFO5731_Assignment_One.ipynb\" target=\"_parent\"><img src=\"https://colab.research.google.com/assets/colab-badge.svg\" alt=\"Open In Colab\"/></a>"
      ]
    },
    {
      "cell_type": "markdown",
      "metadata": {
        "id": "Ryk8D1Q4Wsrp"
      },
      "source": [
        "# **INFO5731 Assignment One**"
      ]
    },
    {
      "cell_type": "markdown",
      "metadata": {
        "id": "90_NR8c5XGWc"
      },
      "source": [
        "# Question 1\n",
        "\n",
        "(20 points). Write a Python program to generate 12 random numbers between 1 and 100. Sort the list of numbers in ascending order and print it out. Sort the list of numbers in descending order and print it out. Calculate the average for the group and print it out."
      ]
    },
    {
      "cell_type": "code",
      "execution_count": 4,
      "metadata": {
        "id": "5QX6bJjGWXY9",
        "colab": {
          "base_uri": "https://localhost:8080/"
        },
        "outputId": "d442c461-f112-4076-eb85-80987783e20c"
      },
      "outputs": [
        {
          "output_type": "stream",
          "name": "stdout",
          "text": [
            "[46, 1, 22, 27, 60, 91, 93, 40, 88, 88, 44, 14]\n",
            "[1, 14, 22, 27, 40, 44, 46, 60, 88, 88, 91, 93]\n",
            "[93, 91, 88, 88, 60, 46, 44, 40, 27, 22, 14, 1]\n",
            "51.166666666666664\n"
          ]
        }
      ],
      "source": [
        "# Your code here\n",
        "import random\n",
        "\n",
        "num12 = [random.randint(1, 100) for _ in range(12)]\n",
        "#sorting the random numbers\n",
        "asortNums = sorted(num12)\n",
        "dsortNums = sorted(num12, reverse=True)\n",
        "#average of random numbers\n",
        "avgNums = sum(num12)/len(num12)\n",
        "#printing the numbers\n",
        "print(f\"{num12}\\n{asortNums}\\n{dsortNums}\\n{avgNums}\")"
      ]
    },
    {
      "cell_type": "markdown",
      "metadata": {
        "id": "1F_PZdH9Sh49"
      },
      "source": [
        "# Question 2\n",
        "(25 points).\n",
        "\n",
        "Write a program that will do the following string formatting tasks:\n",
        "\n",
        "(1) Ask the user to enter two sentences.\n",
        "\n",
        "(2) Make each sentence into a list. Each element in the list should correspond to a word in the sentence. For example, if the sentence is \"Alas! Am I alive? This is my first python program\", the program should print out ['Alas, '!', 'Am', 'I', 'alive, '?', 'This', 'is', 'my', 'first', 'python', 'program'].\n",
        "\n",
        "(3) Compare the two sentences. Print out a list of words that occur in both sentences.\n",
        "\n",
        "(4) Remove any punctuation from the sentence and print it back out. It should remove at least the following characters, but it can remove more: period(“.”), comma (“,”), semicolon (“;”), and colon (“:”)\n",
        "\n",
        "(5) Count the number of vowels in the sentences. Print out each vowel and the number of times it appears in the sentences, such as: a:2, e:1, i:0, etc"
      ]
    },
    {
      "cell_type": "code",
      "execution_count": 10,
      "metadata": {
        "id": "Y0oOSlsOS0cq",
        "colab": {
          "base_uri": "https://localhost:8080/"
        },
        "outputId": "02276415-c7fc-46e6-ad2f-21869880cf48"
      },
      "outputs": [
        {
          "output_type": "stream",
          "name": "stdout",
          "text": [
            "1st sentenceThis is first sentence!\n",
            "2nd sentenceThis is second sentence!\n",
            "['This', 'is', 'first', 'sentence', '!']\n",
            "['This', 'is', 'second', 'sentence', '!']\n",
            "['This', 'sentence', 'is', '!']\n",
            "['This', 'is', 'first', 'sentence', '']\n",
            "['This', 'is', 'second', 'sentence', '']\n",
            "sentence 1 : {'a': 0, 'e': 3, 'i': 3, 'o': 0, 'u': 0, 'A': 0, 'E': 0, 'I': 0, 'O': 0, 'U': 0}\n",
            "sentence 2 : {'a': 0, 'e': 4, 'i': 2, 'o': 1, 'u': 0, 'A': 0, 'E': 0, 'I': 0, 'O': 0, 'U': 0}\n"
          ]
        }
      ],
      "source": [
        "# Your code here\n",
        "import re\n",
        "import string\n",
        "from collections import Counter\n",
        "\n",
        "vowels = ['a','e','i','o','u','A','E','I','O','U']\n",
        "\n",
        "# input from user\n",
        "s1 = input(\"1st sentence\")\n",
        "s2 = input(\"2nd sentence\")\n",
        "# Making lists\n",
        "new_s1 = [c.strip() for c in re.split('(\\W+)', s1) if c.strip() != '']\n",
        "new_s2 = [c.strip() for c in re.split('(\\W+)', s2) if c.strip() != '']\n",
        "\n",
        "print(f\"{new_s1}\\n{new_s2}\")\n",
        "\n",
        "# common words\n",
        "occurances = list(set(new_s1) & set(new_s2))\n",
        "print(occurances)\n",
        "\n",
        "# removing punctuations\n",
        "new_s1 = [''.join(c for c in s if c not in string.punctuation) for s in new_s1]\n",
        "new_s2 = [''.join(c for c in s if c not in string.punctuation) for s in new_s2]\n",
        "\n",
        "print(f\"{new_s1}\\n{new_s2}\")\n",
        "\n",
        "def vowel_counter(sentence):\n",
        "    vowels = 'aeiouAEIOU'\n",
        "    vowel_count = {vowel: 0 for vowel in vowels}\n",
        "    for char in sentence:\n",
        "        if char in vowel_count:\n",
        "            vowel_count[char] += 1\n",
        "    return vowel_count\n",
        "\n",
        "print(f\"sentence 1 : {vowel_counter(' '.join(new_s1))}\")\n",
        "print(f\"sentence 2 : {vowel_counter(' '.join(new_s2))}\")\n",
        "#print(f\"{new_s1}\\n{new_s2}\")"
      ]
    },
    {
      "cell_type": "markdown",
      "metadata": {
        "id": "CmFoI4jDS9nx"
      },
      "source": [
        "# Question 3\n",
        "\n",
        "(15 points). The formula that describes the volume V of a sphere with radius r is the following:\n",
        "\n",
        "$ V=\\frac{4}{3}\\ast\\ \\pi\\ast\\ r^3 $\n",
        "\n",
        "Write a program to calculate the value of V when r is in the range of 1–10. Output the result in the following format:\n",
        "\n",
        "\tr\tV\n",
        "\t1\t…\n",
        "\t2\t…\n",
        "\t3\t…\n"
      ]
    },
    {
      "cell_type": "code",
      "execution_count": 13,
      "metadata": {
        "id": "pEyqeioAT95b",
        "colab": {
          "base_uri": "https://localhost:8080/"
        },
        "outputId": "068cfd61-db4c-40cb-d6b2-bdedf56788b5"
      },
      "outputs": [
        {
          "output_type": "stream",
          "name": "stdout",
          "text": [
            "V = 43∗ π∗ r^3\n",
            "r    V\n",
            "1    4.1887902047863905\n",
            "2    33.510321638291124\n",
            "3    113.09733552923254\n",
            "4    268.082573106329\n",
            "5    523.5987755982989\n",
            "6    904.7786842338603\n",
            "7    1436.7550402417319\n",
            "8    2144.660584850632\n",
            "9    3053.6280592892786\n",
            "10    4188.790204786391\n"
          ]
        }
      ],
      "source": [
        "# Your code here\n",
        "import math\n",
        "print(\"V = 4/3∗ π∗ r^3\")\n",
        "print(\"r    V\")\n",
        "for r in range(1, 11):\n",
        "    V = (4/3) * math.pi * r**3\n",
        "    print(f\"{r}    {V}\")\n"
      ]
    },
    {
      "cell_type": "markdown",
      "metadata": {
        "id": "z3tBE7E-Xn5X"
      },
      "source": [
        "# Question 4\n",
        "\n",
        "(40 points). In the field of Data Science, data is often formatted as a comma-delimited (CSV) file, where each line in a file corresponds to a field's value. Refer to Chapter 9 (p. 106) for more information on comma-delimited files. To answer this question, you will need to download the file [Assignment1_denton_housing.csv](https://raw.githubusercontent.com/unt-iialab/info5731-spring2022/main/assignments/Assignment1_denton_housing.csv) included with this assignment. The file [Assignment1_denton_housing.csv](https://raw.githubusercontent.com/unt-iialab/info5731-spring2022/main/assignments/Assignment1_denton_housing.csv) contains statistics about housing in the city of Denton from 2008 to 2014. Write a program to implement the following questions.\n",
        "\n",
        "(1) (10 pts) Calculate the difference in the number of Occupied Housing Units from year to year and print it. The difference must be calculated for the consecutive years such as 2008-2009, 2009-2010 etc. Finally, print the values in the ascending order.\n",
        "\n",
        "(2) (10 pts) For all the years, calculate the percentage of housing units which are vacant an occupied. Print the results in the following format:\n",
        "\n",
        "Year Vacant Housing Units Occupied Housing Units\n",
        "\n",
        "    2008  30%   70%                          \n",
        "\t2009 ----- -----\n",
        "\t2010 ----- -----\n",
        "    2011 ----- -----\n",
        "\t2012 ----- -----\n",
        "    2013 ----- -----\n",
        "\t2014 ----- -----\n",
        "  \n",
        "  \n",
        "\n",
        "(3) (10 pts) Calculate and print the valued and years in which the highest number of housing units were vacant and occupied. Print the results in the following format:  \n",
        "\n",
        "                              Year\tValue\n",
        "\tVacant Housing Units\t  -----   -----\n",
        "\tOccupied Housing Units\t-----   -----\n",
        "\n",
        "(4) (10 pts) Calculate the harmonic mean of the total housing units and print it out. You can find the information about harmonic mean here: https://ncalculators.com/statistics/harmonic-mean-calculator.htm"
      ]
    },
    {
      "cell_type": "code",
      "execution_count": 25,
      "metadata": {
        "id": "lqGYuHBhcsRH",
        "colab": {
          "base_uri": "https://localhost:8080/"
        },
        "outputId": "02e76579-e6fe-4c5a-fb2b-0089e7fb2f50"
      },
      "outputs": [
        {
          "output_type": "stream",
          "name": "stdout",
          "text": [
            "\n",
            "Question 1: \n",
            "\n",
            "    year             title_field  value  Difference\n",
            "20  2008  Occupied Housing Units  36711         0.0\n",
            "17  2009  Occupied Housing Units  35916      -795.0\n",
            "14  2010  Occupied Housing Units  41007      5091.0\n",
            "11  2011  Occupied Housing Units  40704      -303.0\n",
            "8   2012  Occupied Housing Units  42108      1404.0\n",
            "5   2013  Occupied Housing Units  43673      1565.0\n",
            "2   2014  Occupied Housing Units  46295      2622.0\n",
            "\n",
            "Question 2: \n",
            "\n",
            "      Year  Vacant Housing Units Percentage  Occupied Housing Units Percentage\n",
            "year                                                                          \n",
            "2008  2008                            10.88                              89.12\n",
            "2009  2009                             9.07                              90.93\n",
            "2010  2010                             8.14                              91.86\n",
            "2011  2011                             9.38                              90.62\n",
            "2012  2012                             6.68                              93.32\n",
            "2013  2013                             8.80                              91.20\n",
            "2014  2014                             5.73                              94.27\n",
            "\n",
            "Question 3:\n",
            "Vacant Housing Units Year: 2008, Value: 10.88%\n",
            "Occupied Housing Units Year: 2014, Value: 2014.0%\n",
            "\n",
            "Question 4: \n",
            "\n",
            "44398.28543969185\n"
          ]
        }
      ],
      "source": [
        "# Your code here\n",
        "import pandas as pd\n",
        "import numpy as np\n",
        "\n",
        "df = pd.read_csv(\"Assignment1_denton_housing.csv\")\n",
        "df\n",
        "\n",
        "pivot_table = df.pivot(index='year', columns='title_field', values='value')\n",
        "\n",
        "# question 1\n",
        "print(\"\\nQuestion 1: \\n\")\n",
        "occupiedDifference = df[df['title_field'] == 'Occupied Housing Units'].sort_values(by='year')\n",
        "occupiedDifference['Difference'] = occupiedDifference['value'].diff().fillna(0)\n",
        "\n",
        "print(occupiedDifference)\n",
        "\n",
        "# question 2\n",
        "print(\"\\nQuestion 2: \\n\")\n",
        "totalUnits = pivot_table['Total Housing Units']\n",
        "vacantUnits = pivot_table['Vacant Housing Units']\n",
        "occupiedUnits = pivot_table['Occupied Housing Units']\n",
        "\n",
        "vacant_percentage = (vacantUnits / totalUnits * 100).round(2)\n",
        "occupied_percentage = (occupiedUnits / totalUnits * 100).round(2)\n",
        "\n",
        "result_df = pd.DataFrame({\n",
        "    'Year': totalUnits.index,\n",
        "    'Vacant Housing Units Percentage': vacant_percentage,\n",
        "    'Occupied Housing Units Percentage': occupied_percentage\n",
        "})\n",
        "\n",
        "print(result_df)\n",
        "\n",
        "# question 3\n",
        "print(\"\\nQuestion 3:\")\n",
        "maxVacantYear = result_df.loc[result_df['Vacant Housing Units Percentage'].idxmax()]['Year']\n",
        "maxOccupiedYear = result_df.loc[result_df['Occupied Housing Units Percentage'].idxmax()]['Year']\n",
        "\n",
        "maxVacantValue = result_df['Vacant Housing Units Percentage'].max()\n",
        "maxOccupiedValue = result_df['Occupied Housing Units Percentage'].max()\n",
        "\n",
        "print(f\"Vacant Housing Units Year: {int(maxVacantYear)}, Value: {maxVacantValue}%\")\n",
        "print(f\"Occupied Housing Units Year: {int(maxOccupiedYear)}, Value: {maxOccupiedYear}%\")\n",
        "\n",
        "# question 4\n",
        "print(\"\\nQuestion 4: \\n\")\n",
        "total_units = pivot_table['Total Housing Units']\n",
        "harmonic_mean = len(total_units) / (1 / total_units).sum()\n",
        "\n",
        "print(harmonic_mean)"
      ]
    }
  ],
  "metadata": {
    "colab": {
      "provenance": []
    },
    "kernelspec": {
      "display_name": "Python 3 (ipykernel)",
      "language": "python",
      "name": "python3"
    },
    "language_info": {
      "codemirror_mode": {
        "name": "ipython",
        "version": 3
      },
      "file_extension": ".py",
      "mimetype": "text/x-python",
      "name": "python",
      "nbconvert_exporter": "python",
      "pygments_lexer": "ipython3",
      "version": "3.9.12"
    }
  },
  "nbformat": 4,
  "nbformat_minor": 0
}